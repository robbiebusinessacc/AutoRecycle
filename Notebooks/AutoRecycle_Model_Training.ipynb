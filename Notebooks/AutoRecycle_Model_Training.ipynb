{
 "metadata": {
  "kernelspec": {
   "language": "python",
   "display_name": "Python 3",
   "name": "python3"
  },
  "language_info": {
   "name": "python",
   "version": "3.10.13",
   "mimetype": "text/x-python",
   "codemirror_mode": {
    "name": "ipython",
    "version": 3
   },
   "pygments_lexer": "ipython3",
   "nbconvert_exporter": "python",
   "file_extension": ".py"
  },
  "kaggle": {
   "accelerator": "gpu",
   "dataSources": [
    {
     "sourceId": 269359,
     "sourceType": "datasetVersion",
     "datasetId": 111880
    },
    {
     "sourceId": 8715371,
     "sourceType": "datasetVersion",
     "datasetId": 5228875
    },
    {
     "sourceId": 8798294,
     "sourceType": "datasetVersion",
     "datasetId": 5290509
    }
   ],
   "isInternetEnabled": true,
   "language": "python",
   "sourceType": "notebook",
   "isGpuEnabled": true
  }
 },
 "nbformat_minor": 4,
 "nbformat": 4,
 "cells": [
  {
   "cell_type": "markdown",
   "source": [
    "----"
   ],
   "metadata": {}
  },
  {
   "cell_type": "code",
   "source": [
    "!pip install fastai --upgrade\n",
    "!pip install timm"
   ],
   "metadata": {
    "execution": {
     "iopub.status.busy": "2024-06-27T08:42:42.833290Z",
     "iopub.execute_input": "2024-06-27T08:42:42.834048Z",
     "iopub.status.idle": "2024-06-27T08:43:09.629766Z",
     "shell.execute_reply.started": "2024-06-27T08:42:42.834006Z",
     "shell.execute_reply": "2024-06-27T08:43:09.628729Z"
    },
    "trusted": true
   },
   "execution_count": 1,
   "outputs": [
    {
     "name": "stdout",
     "text": "Requirement already satisfied: fastai in /opt/conda/lib/python3.10/site-packages (2.7.15)\nRequirement already satisfied: pip in /opt/conda/lib/python3.10/site-packages (from fastai) (23.3.2)\nRequirement already satisfied: packaging in /opt/conda/lib/python3.10/site-packages (from fastai) (21.3)\nRequirement already satisfied: fastdownload<2,>=0.0.5 in /opt/conda/lib/python3.10/site-packages (from fastai) (0.0.7)\nRequirement already satisfied: fastcore<1.6,>=1.5.29 in /opt/conda/lib/python3.10/site-packages (from fastai) (1.5.43)\nRequirement already satisfied: torchvision>=0.11 in /opt/conda/lib/python3.10/site-packages (from fastai) (0.16.2)\nRequirement already satisfied: matplotlib in /opt/conda/lib/python3.10/site-packages (from fastai) (3.7.5)\nRequirement already satisfied: pandas in /opt/conda/lib/python3.10/site-packages (from fastai) (2.2.1)\nRequirement already satisfied: requests in /opt/conda/lib/python3.10/site-packages (from fastai) (2.32.3)\nRequirement already satisfied: pyyaml in /opt/conda/lib/python3.10/site-packages (from fastai) (6.0.1)\nRequirement already satisfied: fastprogress>=0.2.4 in /opt/conda/lib/python3.10/site-packages (from fastai) (1.0.3)\nRequirement already satisfied: pillow>=9.0.0 in /opt/conda/lib/python3.10/site-packages (from fastai) (9.5.0)\nRequirement already satisfied: scikit-learn in /opt/conda/lib/python3.10/site-packages (from fastai) (1.2.2)\nRequirement already satisfied: scipy in /opt/conda/lib/python3.10/site-packages (from fastai) (1.11.4)\nRequirement already satisfied: spacy<4 in /opt/conda/lib/python3.10/site-packages (from fastai) (3.7.3)\nRequirement already satisfied: torch<2.4,>=1.10 in /opt/conda/lib/python3.10/site-packages (from fastai) (2.1.2)\nRequirement already satisfied: spacy-legacy<3.1.0,>=3.0.11 in /opt/conda/lib/python3.10/site-packages (from spacy<4->fastai) (3.0.12)\nRequirement already satisfied: spacy-loggers<2.0.0,>=1.0.0 in /opt/conda/lib/python3.10/site-packages (from spacy<4->fastai) (1.0.5)\nRequirement already satisfied: murmurhash<1.1.0,>=0.28.0 in /opt/conda/lib/python3.10/site-packages (from spacy<4->fastai) (1.0.10)\nRequirement already satisfied: cymem<2.1.0,>=2.0.2 in /opt/conda/lib/python3.10/site-packages (from spacy<4->fastai) (2.0.8)\nRequirement already satisfied: preshed<3.1.0,>=3.0.2 in /opt/conda/lib/python3.10/site-packages (from spacy<4->fastai) (3.0.9)\nRequirement already satisfied: thinc<8.3.0,>=8.2.2 in /opt/conda/lib/python3.10/site-packages (from spacy<4->fastai) (8.2.3)\nRequirement already satisfied: wasabi<1.2.0,>=0.9.1 in /opt/conda/lib/python3.10/site-packages (from spacy<4->fastai) (1.1.2)\nRequirement already satisfied: srsly<3.0.0,>=2.4.3 in /opt/conda/lib/python3.10/site-packages (from spacy<4->fastai) (2.4.8)\nRequirement already satisfied: catalogue<2.1.0,>=2.0.6 in /opt/conda/lib/python3.10/site-packages (from spacy<4->fastai) (2.0.10)\nRequirement already satisfied: weasel<0.4.0,>=0.1.0 in /opt/conda/lib/python3.10/site-packages (from spacy<4->fastai) (0.3.4)\nRequirement already satisfied: typer<0.10.0,>=0.3.0 in /opt/conda/lib/python3.10/site-packages (from spacy<4->fastai) (0.9.0)\nRequirement already satisfied: smart-open<7.0.0,>=5.2.1 in /opt/conda/lib/python3.10/site-packages (from spacy<4->fastai) (6.4.0)\nRequirement already satisfied: tqdm<5.0.0,>=4.38.0 in /opt/conda/lib/python3.10/site-packages (from spacy<4->fastai) (4.66.4)\nRequirement already satisfied: pydantic!=1.8,!=1.8.1,<3.0.0,>=1.7.4 in /opt/conda/lib/python3.10/site-packages (from spacy<4->fastai) (2.5.3)\nRequirement already satisfied: jinja2 in /opt/conda/lib/python3.10/site-packages (from spacy<4->fastai) (3.1.2)\nRequirement already satisfied: setuptools in /opt/conda/lib/python3.10/site-packages (from spacy<4->fastai) (69.0.3)\nRequirement already satisfied: langcodes<4.0.0,>=3.2.0 in /opt/conda/lib/python3.10/site-packages (from spacy<4->fastai) (3.4.0)\nRequirement already satisfied: numpy>=1.19.0 in /opt/conda/lib/python3.10/site-packages (from spacy<4->fastai) (1.26.4)\nRequirement already satisfied: pyparsing!=3.0.5,>=2.0.2 in /opt/conda/lib/python3.10/site-packages (from packaging->fastai) (3.1.1)\nRequirement already satisfied: charset-normalizer<4,>=2 in /opt/conda/lib/python3.10/site-packages (from requests->fastai) (3.3.2)\nRequirement already satisfied: idna<4,>=2.5 in /opt/conda/lib/python3.10/site-packages (from requests->fastai) (3.6)\nRequirement already satisfied: urllib3<3,>=1.21.1 in /opt/conda/lib/python3.10/site-packages (from requests->fastai) (1.26.18)\nRequirement already satisfied: certifi>=2017.4.17 in /opt/conda/lib/python3.10/site-packages (from requests->fastai) (2024.2.2)\nRequirement already satisfied: filelock in /opt/conda/lib/python3.10/site-packages (from torch<2.4,>=1.10->fastai) (3.13.1)\nRequirement already satisfied: typing-extensions in /opt/conda/lib/python3.10/site-packages (from torch<2.4,>=1.10->fastai) (4.9.0)\nRequirement already satisfied: sympy in /opt/conda/lib/python3.10/site-packages (from torch<2.4,>=1.10->fastai) (1.12.1)\nRequirement already satisfied: networkx in /opt/conda/lib/python3.10/site-packages (from torch<2.4,>=1.10->fastai) (3.2.1)\nRequirement already satisfied: fsspec in /opt/conda/lib/python3.10/site-packages (from torch<2.4,>=1.10->fastai) (2024.3.1)\nRequirement already satisfied: contourpy>=1.0.1 in /opt/conda/lib/python3.10/site-packages (from matplotlib->fastai) (1.2.0)\nRequirement already satisfied: cycler>=0.10 in /opt/conda/lib/python3.10/site-packages (from matplotlib->fastai) (0.12.1)\nRequirement already satisfied: fonttools>=4.22.0 in /opt/conda/lib/python3.10/site-packages (from matplotlib->fastai) (4.47.0)\nRequirement already satisfied: kiwisolver>=1.0.1 in /opt/conda/lib/python3.10/site-packages (from matplotlib->fastai) (1.4.5)\nRequirement already satisfied: python-dateutil>=2.7 in /opt/conda/lib/python3.10/site-packages (from matplotlib->fastai) (2.9.0.post0)\nRequirement already satisfied: pytz>=2020.1 in /opt/conda/lib/python3.10/site-packages (from pandas->fastai) (2023.3.post1)\nRequirement already satisfied: tzdata>=2022.7 in /opt/conda/lib/python3.10/site-packages (from pandas->fastai) (2023.4)\nRequirement already satisfied: joblib>=1.1.1 in /opt/conda/lib/python3.10/site-packages (from scikit-learn->fastai) (1.4.2)\nRequirement already satisfied: threadpoolctl>=2.0.0 in /opt/conda/lib/python3.10/site-packages (from scikit-learn->fastai) (3.2.0)\nRequirement already satisfied: language-data>=1.2 in /opt/conda/lib/python3.10/site-packages (from langcodes<4.0.0,>=3.2.0->spacy<4->fastai) (1.2.0)\nRequirement already satisfied: annotated-types>=0.4.0 in /opt/conda/lib/python3.10/site-packages (from pydantic!=1.8,!=1.8.1,<3.0.0,>=1.7.4->spacy<4->fastai) (0.6.0)\nRequirement already satisfied: pydantic-core==2.14.6 in /opt/conda/lib/python3.10/site-packages (from pydantic!=1.8,!=1.8.1,<3.0.0,>=1.7.4->spacy<4->fastai) (2.14.6)\nRequirement already satisfied: six>=1.5 in /opt/conda/lib/python3.10/site-packages (from python-dateutil>=2.7->matplotlib->fastai) (1.16.0)\nRequirement already satisfied: blis<0.8.0,>=0.7.8 in /opt/conda/lib/python3.10/site-packages (from thinc<8.3.0,>=8.2.2->spacy<4->fastai) (0.7.10)\nRequirement already satisfied: confection<1.0.0,>=0.0.1 in /opt/conda/lib/python3.10/site-packages (from thinc<8.3.0,>=8.2.2->spacy<4->fastai) (0.1.4)\nRequirement already satisfied: click<9.0.0,>=7.1.1 in /opt/conda/lib/python3.10/site-packages (from typer<0.10.0,>=0.3.0->spacy<4->fastai) (8.1.7)\nRequirement already satisfied: cloudpathlib<0.17.0,>=0.7.0 in /opt/conda/lib/python3.10/site-packages (from weasel<0.4.0,>=0.1.0->spacy<4->fastai) (0.16.0)\nRequirement already satisfied: MarkupSafe>=2.0 in /opt/conda/lib/python3.10/site-packages (from jinja2->spacy<4->fastai) (2.1.3)\nRequirement already satisfied: mpmath<1.4.0,>=1.1.0 in /opt/conda/lib/python3.10/site-packages (from sympy->torch<2.4,>=1.10->fastai) (1.3.0)\nRequirement already satisfied: marisa-trie>=0.7.7 in /opt/conda/lib/python3.10/site-packages (from language-data>=1.2->langcodes<4.0.0,>=3.2.0->spacy<4->fastai) (1.1.0)\nRequirement already satisfied: timm in /opt/conda/lib/python3.10/site-packages (1.0.3)\nRequirement already satisfied: torch in /opt/conda/lib/python3.10/site-packages (from timm) (2.1.2)\nRequirement already satisfied: torchvision in /opt/conda/lib/python3.10/site-packages (from timm) (0.16.2)\nRequirement already satisfied: pyyaml in /opt/conda/lib/python3.10/site-packages (from timm) (6.0.1)\nRequirement already satisfied: huggingface_hub in /opt/conda/lib/python3.10/site-packages (from timm) (0.23.2)\nRequirement already satisfied: safetensors in /opt/conda/lib/python3.10/site-packages (from timm) (0.4.3)\nRequirement already satisfied: filelock in /opt/conda/lib/python3.10/site-packages (from huggingface_hub->timm) (3.13.1)\nRequirement already satisfied: fsspec>=2023.5.0 in /opt/conda/lib/python3.10/site-packages (from huggingface_hub->timm) (2024.3.1)\nRequirement already satisfied: packaging>=20.9 in /opt/conda/lib/python3.10/site-packages (from huggingface_hub->timm) (21.3)\nRequirement already satisfied: requests in /opt/conda/lib/python3.10/site-packages (from huggingface_hub->timm) (2.32.3)\nRequirement already satisfied: tqdm>=4.42.1 in /opt/conda/lib/python3.10/site-packages (from huggingface_hub->timm) (4.66.4)\nRequirement already satisfied: typing-extensions>=3.7.4.3 in /opt/conda/lib/python3.10/site-packages (from huggingface_hub->timm) (4.9.0)\nRequirement already satisfied: sympy in /opt/conda/lib/python3.10/site-packages (from torch->timm) (1.12.1)\nRequirement already satisfied: networkx in /opt/conda/lib/python3.10/site-packages (from torch->timm) (3.2.1)\nRequirement already satisfied: jinja2 in /opt/conda/lib/python3.10/site-packages (from torch->timm) (3.1.2)\nRequirement already satisfied: numpy in /opt/conda/lib/python3.10/site-packages (from torchvision->timm) (1.26.4)\nRequirement already satisfied: pillow!=8.3.*,>=5.3.0 in /opt/conda/lib/python3.10/site-packages (from torchvision->timm) (9.5.0)\nRequirement already satisfied: pyparsing!=3.0.5,>=2.0.2 in /opt/conda/lib/python3.10/site-packages (from packaging>=20.9->huggingface_hub->timm) (3.1.1)\nRequirement already satisfied: MarkupSafe>=2.0 in /opt/conda/lib/python3.10/site-packages (from jinja2->torch->timm) (2.1.3)\nRequirement already satisfied: charset-normalizer<4,>=2 in /opt/conda/lib/python3.10/site-packages (from requests->huggingface_hub->timm) (3.3.2)\nRequirement already satisfied: idna<4,>=2.5 in /opt/conda/lib/python3.10/site-packages (from requests->huggingface_hub->timm) (3.6)\nRequirement already satisfied: urllib3<3,>=1.21.1 in /opt/conda/lib/python3.10/site-packages (from requests->huggingface_hub->timm) (1.26.18)\nRequirement already satisfied: certifi>=2017.4.17 in /opt/conda/lib/python3.10/site-packages (from requests->huggingface_hub->timm) (2024.2.2)\nRequirement already satisfied: mpmath<1.4.0,>=1.1.0 in /opt/conda/lib/python3.10/site-packages (from sympy->torch->timm) (1.3.0)\n",
     "output_type": "stream"
    }
   ]
  },
  {
   "cell_type": "code",
   "source": [
    "import torch\n",
    "from fastai.vision.all import *\n",
    "import numpy as np\n",
    "import os\n",
    "from pathlib import Path\n",
    "import timm"
   ],
   "metadata": {
    "execution": {
     "iopub.status.busy": "2024-06-27T08:53:57.769750Z",
     "iopub.execute_input": "2024-06-27T08:53:57.773990Z",
     "iopub.status.idle": "2024-06-27T08:54:06.356083Z",
     "shell.execute_reply.started": "2024-06-27T08:53:57.773932Z",
     "shell.execute_reply": "2024-06-27T08:54:06.355083Z"
    },
    "trusted": true
   },
   "execution_count": 1,
   "outputs": []
  },
  {
   "cell_type": "code",
   "source": [
    "# Define paths\n",
    "x = '/kaggle/input/splitrealwaste/realwaste-main/RealWaste'\n",
    "path = Path(x)\n",
    "path.ls()\n",
    "\n",
    "np.random.seed(40)"
   ],
   "metadata": {
    "execution": {
     "iopub.status.busy": "2024-06-27T08:54:06.357863Z",
     "iopub.execute_input": "2024-06-27T08:54:06.358148Z",
     "iopub.status.idle": "2024-06-27T08:54:06.366407Z",
     "shell.execute_reply.started": "2024-06-27T08:54:06.358123Z",
     "shell.execute_reply": "2024-06-27T08:54:06.365701Z"
    },
    "trusted": true
   },
   "execution_count": 2,
   "outputs": []
  },
  {
   "cell_type": "code",
   "source": [
    "# Define DataLoaders for swin (224x224) and DINO (224x224)\n",
    "# validation is 17.58% because it is splitting from the remaining 85% \n",
    "# after the test dataset is already separated before the data is loaded.\n",
    "data_swin = ImageDataLoaders.from_folder(path, train='.', valid_pct=0.1758,\n",
    "                                              item_tfms=Resize(224),\n",
    "                                              batch_tfms=[*aug_transforms(), Normalize.from_stats(*imagenet_stats)],\n",
    "                                              num_workers=4)\n",
    "\n",
    "data_dino = ImageDataLoaders.from_folder(path, train='.', valid_pct=0.1758,\n",
    "                                         item_tfms=Resize(224),\n",
    "                                         batch_tfms=[*aug_transforms(), Normalize.from_stats(*imagenet_stats)],\n",
    "                                         num_workers=4)"
   ],
   "metadata": {
    "execution": {
     "iopub.status.busy": "2024-06-27T08:54:06.367506Z",
     "iopub.execute_input": "2024-06-27T08:54:06.367802Z",
     "iopub.status.idle": "2024-06-27T08:54:08.251214Z",
     "shell.execute_reply.started": "2024-06-27T08:54:06.367778Z",
     "shell.execute_reply": "2024-06-27T08:54:08.250357Z"
    },
    "trusted": true
   },
   "execution_count": 3,
   "outputs": []
  },
  {
   "cell_type": "code",
   "source": [
    "# Train swin V4 model\n",
    "swin = timm.create_model('swin_base_patch4_window7_224.ms_in22k_ft_in1k', pretrained=True)\n",
    "swin.reset_classifier(0)"
   ],
   "metadata": {
    "execution": {
     "iopub.status.busy": "2024-06-27T08:54:08.252907Z",
     "iopub.execute_input": "2024-06-27T08:54:08.253194Z",
     "iopub.status.idle": "2024-06-27T08:54:15.454317Z",
     "shell.execute_reply.started": "2024-06-27T08:54:08.253169Z",
     "shell.execute_reply": "2024-06-27T08:54:15.453297Z"
    },
    "trusted": true
   },
   "execution_count": 4,
   "outputs": [
    {
     "output_type": "display_data",
     "data": {
      "text/plain": "model.safetensors:   0%|          | 0.00/353M [00:00<?, ?B/s]",
      "application/vnd.jupyter.widget-view+json": {
       "version_major": 2,
       "version_minor": 0,
       "model_id": "bc755403325b4c8995bf6e4642d48799"
      }
     },
     "metadata": {}
    }
   ]
  },
  {
   "cell_type": "code",
   "source": [
    "# Define a custom head for swin V4\n",
    "class SwinHead(nn.Module):\n",
    "    def __init__(self, num_classes):\n",
    "        super().__init__()\n",
    "        self.num_classes = num_classes\n",
    "        self.head = nn.Linear(swin.num_features, num_classes)\n",
    "        \n",
    "    def forward(self, x):\n",
    "        x = swin(x)\n",
    "        x = self.head(x)\n",
    "        return x\n",
    "\n",
    "# Create a Learner for swin v4\n",
    "\n",
    "swin_learner = Learner(data_swin, SwinHead(len(data_swin.vocab)), metrics=accuracy,  model_dir=Path('/kaggle/working/'))\n",
    "\n",
    "swin_learner.model.swin = swin"
   ],
   "metadata": {
    "execution": {
     "iopub.status.busy": "2024-06-27T08:54:29.450708Z",
     "iopub.execute_input": "2024-06-27T08:54:29.451053Z",
     "iopub.status.idle": "2024-06-27T08:54:29.459767Z",
     "shell.execute_reply.started": "2024-06-27T08:54:29.451027Z",
     "shell.execute_reply": "2024-06-27T08:54:29.458776Z"
    },
    "trusted": true
   },
   "execution_count": 6,
   "outputs": []
  },
  {
   "cell_type": "code",
   "source": [
    "#swin_learner.recorder.lr_find()\n",
    "#swin_learner.recorder.plot_lr_find()"
   ],
   "metadata": {
    "execution": {
     "iopub.status.busy": "2024-06-27T08:43:28.127360Z",
     "iopub.execute_input": "2024-06-27T08:43:28.127714Z",
     "iopub.status.idle": "2024-06-27T08:43:28.137520Z",
     "shell.execute_reply.started": "2024-06-27T08:43:28.127685Z",
     "shell.execute_reply": "2024-06-27T08:43:28.136638Z"
    },
    "trusted": true
   },
   "execution_count": 7,
   "outputs": []
  },
  {
   "cell_type": "code",
   "source": [
    "lr_min = 1e-5\n",
    "lr_ideal = 3e-5\n",
    "swin_learner.fit_one_cycle(13, slice(lr_min, lr_ideal))\n",
    "swin_learner.save('swin')"
   ],
   "metadata": {
    "execution": {
     "iopub.status.busy": "2024-06-27T08:54:34.764844Z",
     "iopub.execute_input": "2024-06-27T08:54:34.765198Z",
     "iopub.status.idle": "2024-06-27T09:10:10.281433Z",
     "shell.execute_reply.started": "2024-06-27T08:54:34.765170Z",
     "shell.execute_reply": "2024-06-27T09:10:10.280367Z"
    },
    "trusted": true
   },
   "execution_count": 7,
   "outputs": [
    {
     "output_type": "display_data",
     "data": {
      "text/plain": "<IPython.core.display.HTML object>",
      "text/html": "\n<style>\n    /* Turns off some styling */\n    progress {\n        /* gets rid of default border in Firefox and Opera. */\n        border: none;\n        /* Needs to be in here for Safari polyfill so background images work as expected. */\n        background-size: auto;\n    }\n    progress:not([value]), progress:not([value])::-webkit-progress-bar {\n        background: repeating-linear-gradient(45deg, #7e7e7e, #7e7e7e 10px, #5c5c5c 10px, #5c5c5c 20px);\n    }\n    .progress-bar-interrupted, .progress-bar-interrupted::-webkit-progress-bar {\n        background: #F44336;\n    }\n</style>\n"
     },
     "metadata": {}
    },
    {
     "output_type": "display_data",
     "data": {
      "text/plain": "<IPython.core.display.HTML object>",
      "text/html": "<table border=\"1\" class=\"dataframe\">\n  <thead>\n    <tr style=\"text-align: left;\">\n      <th>epoch</th>\n      <th>train_loss</th>\n      <th>valid_loss</th>\n      <th>accuracy</th>\n      <th>time</th>\n    </tr>\n  </thead>\n  <tbody>\n    <tr>\n      <td>0</td>\n      <td>2.084833</td>\n      <td>1.895486</td>\n      <td>0.323944</td>\n      <td>01:13</td>\n    </tr>\n    <tr>\n      <td>1</td>\n      <td>1.414409</td>\n      <td>0.587177</td>\n      <td>0.818310</td>\n      <td>01:11</td>\n    </tr>\n    <tr>\n      <td>2</td>\n      <td>0.735005</td>\n      <td>0.294385</td>\n      <td>0.900000</td>\n      <td>01:11</td>\n    </tr>\n    <tr>\n      <td>3</td>\n      <td>0.376643</td>\n      <td>0.236450</td>\n      <td>0.916901</td>\n      <td>01:11</td>\n    </tr>\n    <tr>\n      <td>4</td>\n      <td>0.219089</td>\n      <td>0.202454</td>\n      <td>0.938028</td>\n      <td>01:11</td>\n    </tr>\n    <tr>\n      <td>5</td>\n      <td>0.128693</td>\n      <td>0.184352</td>\n      <td>0.945070</td>\n      <td>01:11</td>\n    </tr>\n    <tr>\n      <td>6</td>\n      <td>0.074869</td>\n      <td>0.145828</td>\n      <td>0.950704</td>\n      <td>01:12</td>\n    </tr>\n    <tr>\n      <td>7</td>\n      <td>0.046707</td>\n      <td>0.164557</td>\n      <td>0.953521</td>\n      <td>01:11</td>\n    </tr>\n    <tr>\n      <td>8</td>\n      <td>0.030129</td>\n      <td>0.172994</td>\n      <td>0.947887</td>\n      <td>01:12</td>\n    </tr>\n    <tr>\n      <td>9</td>\n      <td>0.020475</td>\n      <td>0.167025</td>\n      <td>0.950704</td>\n      <td>01:11</td>\n    </tr>\n    <tr>\n      <td>10</td>\n      <td>0.017134</td>\n      <td>0.173244</td>\n      <td>0.956338</td>\n      <td>01:11</td>\n    </tr>\n    <tr>\n      <td>11</td>\n      <td>0.013371</td>\n      <td>0.175707</td>\n      <td>0.954930</td>\n      <td>01:11</td>\n    </tr>\n    <tr>\n      <td>12</td>\n      <td>0.011987</td>\n      <td>0.175273</td>\n      <td>0.954930</td>\n      <td>01:10</td>\n    </tr>\n  </tbody>\n</table>"
     },
     "metadata": {}
    },
    {
     "execution_count": 7,
     "output_type": "execute_result",
     "data": {
      "text/plain": "Path('/kaggle/working/swin.pth')"
     },
     "metadata": {}
    }
   ]
  },
  {
   "cell_type": "code",
   "source": [
    "swin_learner.unfreeze()\n",
    "swin_learner.fit_one_cycle(5, slice(lr_min / 10, lr_ideal / 10))\n",
    "swin_learner.save('swin_finetuned')"
   ],
   "metadata": {
    "execution": {
     "iopub.status.busy": "2024-06-27T09:11:15.223980Z",
     "iopub.execute_input": "2024-06-27T09:11:15.224906Z",
     "iopub.status.idle": "2024-06-27T09:17:16.842763Z",
     "shell.execute_reply.started": "2024-06-27T09:11:15.224854Z",
     "shell.execute_reply": "2024-06-27T09:17:16.841637Z"
    },
    "trusted": true
   },
   "execution_count": 8,
   "outputs": [
    {
     "output_type": "display_data",
     "data": {
      "text/plain": "<IPython.core.display.HTML object>",
      "text/html": "\n<style>\n    /* Turns off some styling */\n    progress {\n        /* gets rid of default border in Firefox and Opera. */\n        border: none;\n        /* Needs to be in here for Safari polyfill so background images work as expected. */\n        background-size: auto;\n    }\n    progress:not([value]), progress:not([value])::-webkit-progress-bar {\n        background: repeating-linear-gradient(45deg, #7e7e7e, #7e7e7e 10px, #5c5c5c 10px, #5c5c5c 20px);\n    }\n    .progress-bar-interrupted, .progress-bar-interrupted::-webkit-progress-bar {\n        background: #F44336;\n    }\n</style>\n"
     },
     "metadata": {}
    },
    {
     "output_type": "display_data",
     "data": {
      "text/plain": "<IPython.core.display.HTML object>",
      "text/html": "<table border=\"1\" class=\"dataframe\">\n  <thead>\n    <tr style=\"text-align: left;\">\n      <th>epoch</th>\n      <th>train_loss</th>\n      <th>valid_loss</th>\n      <th>accuracy</th>\n      <th>time</th>\n    </tr>\n  </thead>\n  <tbody>\n    <tr>\n      <td>0</td>\n      <td>0.011755</td>\n      <td>0.176305</td>\n      <td>0.952113</td>\n      <td>01:12</td>\n    </tr>\n    <tr>\n      <td>1</td>\n      <td>0.011452</td>\n      <td>0.174469</td>\n      <td>0.950704</td>\n      <td>01:12</td>\n    </tr>\n    <tr>\n      <td>2</td>\n      <td>0.011611</td>\n      <td>0.179234</td>\n      <td>0.952113</td>\n      <td>01:12</td>\n    </tr>\n    <tr>\n      <td>3</td>\n      <td>0.010190</td>\n      <td>0.177247</td>\n      <td>0.950704</td>\n      <td>01:11</td>\n    </tr>\n    <tr>\n      <td>4</td>\n      <td>0.009946</td>\n      <td>0.176900</td>\n      <td>0.952113</td>\n      <td>01:11</td>\n    </tr>\n  </tbody>\n</table>"
     },
     "metadata": {}
    },
    {
     "execution_count": 8,
     "output_type": "execute_result",
     "data": {
      "text/plain": "Path('/kaggle/working/swin_finetuned.pth')"
     },
     "metadata": {}
    }
   ]
  },
  {
   "cell_type": "code",
   "source": [
    "# Train DINO model\n",
    "vitb16 = timm.create_model('vit_base_patch16_224.dino', pretrained=True)\n",
    "vitb16.head = nn.Identity()"
   ],
   "metadata": {
    "execution": {
     "iopub.status.busy": "2024-06-27T09:17:16.844864Z",
     "iopub.execute_input": "2024-06-27T09:17:16.845137Z",
     "iopub.status.idle": "2024-06-27T09:17:35.512286Z",
     "shell.execute_reply.started": "2024-06-27T09:17:16.845112Z",
     "shell.execute_reply": "2024-06-27T09:17:35.511297Z"
    },
    "trusted": true
   },
   "execution_count": 9,
   "outputs": [
    {
     "output_type": "display_data",
     "data": {
      "text/plain": "model.safetensors:   0%|          | 0.00/343M [00:00<?, ?B/s]",
      "application/vnd.jupyter.widget-view+json": {
       "version_major": 2,
       "version_minor": 0,
       "model_id": "91ca2852dcfd4a6d8cc94ab6e2bbb52f"
      }
     },
     "metadata": {}
    }
   ]
  },
  {
   "cell_type": "code",
   "source": [
    "# Define a custom head for DINO\n",
    "class DinoHead(nn.Module):\n",
    "    def __init__(self, num_classes):\n",
    "        super().__init__()\n",
    "        self.num_classes = num_classes\n",
    "        self.head = nn.Linear(vitb16.num_features, num_classes)\n",
    "        \n",
    "    def forward(self, x):\n",
    "        x = vitb16(x)\n",
    "        x = self.head(x)\n",
    "        return x\n",
    "\n",
    "# Create a Learner for DINO\n",
    "dino_learner = Learner(data_dino, DinoHead(len(data_dino.vocab)), metrics=accuracy,  model_dir=Path('/kaggle/working/'))\n",
    "dino_learner.model.vitb16 = vitb16\n",
    "lr1 = 1e-5\n",
    "lr2 = 1e-4\n",
    "dino_learner.fit_one_cycle(25, slice(lr1, lr2))\n"
   ],
   "metadata": {
    "execution": {
     "iopub.status.busy": "2024-06-27T09:17:35.513728Z",
     "iopub.execute_input": "2024-06-27T09:17:35.514010Z",
     "iopub.status.idle": "2024-06-27T09:45:50.788592Z",
     "shell.execute_reply.started": "2024-06-27T09:17:35.513985Z",
     "shell.execute_reply": "2024-06-27T09:45:50.787417Z"
    },
    "trusted": true
   },
   "execution_count": 10,
   "outputs": [
    {
     "output_type": "display_data",
     "data": {
      "text/plain": "<IPython.core.display.HTML object>",
      "text/html": "\n<style>\n    /* Turns off some styling */\n    progress {\n        /* gets rid of default border in Firefox and Opera. */\n        border: none;\n        /* Needs to be in here for Safari polyfill so background images work as expected. */\n        background-size: auto;\n    }\n    progress:not([value]), progress:not([value])::-webkit-progress-bar {\n        background: repeating-linear-gradient(45deg, #7e7e7e, #7e7e7e 10px, #5c5c5c 10px, #5c5c5c 20px);\n    }\n    .progress-bar-interrupted, .progress-bar-interrupted::-webkit-progress-bar {\n        background: #F44336;\n    }\n</style>\n"
     },
     "metadata": {}
    },
    {
     "output_type": "display_data",
     "data": {
      "text/plain": "<IPython.core.display.HTML object>",
      "text/html": "<table border=\"1\" class=\"dataframe\">\n  <thead>\n    <tr style=\"text-align: left;\">\n      <th>epoch</th>\n      <th>train_loss</th>\n      <th>valid_loss</th>\n      <th>accuracy</th>\n      <th>time</th>\n    </tr>\n  </thead>\n  <tbody>\n    <tr>\n      <td>0</td>\n      <td>1.508836</td>\n      <td>0.798525</td>\n      <td>0.742254</td>\n      <td>01:07</td>\n    </tr>\n    <tr>\n      <td>1</td>\n      <td>0.743049</td>\n      <td>0.325547</td>\n      <td>0.891549</td>\n      <td>01:07</td>\n    </tr>\n    <tr>\n      <td>2</td>\n      <td>0.381725</td>\n      <td>0.215438</td>\n      <td>0.928169</td>\n      <td>01:07</td>\n    </tr>\n    <tr>\n      <td>3</td>\n      <td>0.221769</td>\n      <td>0.244866</td>\n      <td>0.908451</td>\n      <td>01:08</td>\n    </tr>\n    <tr>\n      <td>4</td>\n      <td>0.177536</td>\n      <td>0.349595</td>\n      <td>0.894366</td>\n      <td>01:08</td>\n    </tr>\n    <tr>\n      <td>5</td>\n      <td>0.173965</td>\n      <td>0.450353</td>\n      <td>0.864789</td>\n      <td>01:08</td>\n    </tr>\n    <tr>\n      <td>6</td>\n      <td>0.146904</td>\n      <td>0.347404</td>\n      <td>0.902817</td>\n      <td>01:08</td>\n    </tr>\n    <tr>\n      <td>7</td>\n      <td>0.113497</td>\n      <td>0.339509</td>\n      <td>0.904225</td>\n      <td>01:08</td>\n    </tr>\n    <tr>\n      <td>8</td>\n      <td>0.107694</td>\n      <td>0.367344</td>\n      <td>0.908451</td>\n      <td>01:07</td>\n    </tr>\n    <tr>\n      <td>9</td>\n      <td>0.081897</td>\n      <td>0.273259</td>\n      <td>0.932394</td>\n      <td>01:07</td>\n    </tr>\n    <tr>\n      <td>10</td>\n      <td>0.060606</td>\n      <td>0.299221</td>\n      <td>0.922535</td>\n      <td>01:07</td>\n    </tr>\n    <tr>\n      <td>11</td>\n      <td>0.040552</td>\n      <td>0.254770</td>\n      <td>0.933803</td>\n      <td>01:07</td>\n    </tr>\n    <tr>\n      <td>12</td>\n      <td>0.037008</td>\n      <td>0.276172</td>\n      <td>0.925352</td>\n      <td>01:07</td>\n    </tr>\n    <tr>\n      <td>13</td>\n      <td>0.035134</td>\n      <td>0.422508</td>\n      <td>0.915493</td>\n      <td>01:07</td>\n    </tr>\n    <tr>\n      <td>14</td>\n      <td>0.025820</td>\n      <td>0.257810</td>\n      <td>0.936620</td>\n      <td>01:07</td>\n    </tr>\n    <tr>\n      <td>15</td>\n      <td>0.017017</td>\n      <td>0.247879</td>\n      <td>0.945070</td>\n      <td>01:07</td>\n    </tr>\n    <tr>\n      <td>16</td>\n      <td>0.009436</td>\n      <td>0.232003</td>\n      <td>0.939437</td>\n      <td>01:07</td>\n    </tr>\n    <tr>\n      <td>17</td>\n      <td>0.004611</td>\n      <td>0.200885</td>\n      <td>0.950704</td>\n      <td>01:07</td>\n    </tr>\n    <tr>\n      <td>18</td>\n      <td>0.001972</td>\n      <td>0.218862</td>\n      <td>0.926761</td>\n      <td>01:07</td>\n    </tr>\n    <tr>\n      <td>19</td>\n      <td>0.000932</td>\n      <td>0.210285</td>\n      <td>0.939437</td>\n      <td>01:07</td>\n    </tr>\n    <tr>\n      <td>20</td>\n      <td>0.000566</td>\n      <td>0.206434</td>\n      <td>0.938028</td>\n      <td>01:08</td>\n    </tr>\n    <tr>\n      <td>21</td>\n      <td>0.000418</td>\n      <td>0.203441</td>\n      <td>0.938028</td>\n      <td>01:08</td>\n    </tr>\n    <tr>\n      <td>22</td>\n      <td>0.000451</td>\n      <td>0.201024</td>\n      <td>0.938028</td>\n      <td>01:08</td>\n    </tr>\n    <tr>\n      <td>23</td>\n      <td>0.000290</td>\n      <td>0.205703</td>\n      <td>0.938028</td>\n      <td>01:08</td>\n    </tr>\n    <tr>\n      <td>24</td>\n      <td>0.000163</td>\n      <td>0.205575</td>\n      <td>0.938028</td>\n      <td>01:08</td>\n    </tr>\n  </tbody>\n</table>"
     },
     "metadata": {}
    }
   ]
  },
  {
   "cell_type": "code",
   "source": [
    "dino_learner.save('dino_model')\n",
    "dino_learner.unfreeze()\n",
    "dino_learner.fit_one_cycle(10, slice(1e-6, lr1))\n",
    "dino_learner.save('dino_model_finetuned')"
   ],
   "metadata": {
    "execution": {
     "iopub.status.busy": "2024-06-27T09:45:50.791514Z",
     "iopub.execute_input": "2024-06-27T09:45:50.792221Z",
     "iopub.status.idle": "2024-06-27T09:57:14.208323Z",
     "shell.execute_reply.started": "2024-06-27T09:45:50.792180Z",
     "shell.execute_reply": "2024-06-27T09:57:14.206913Z"
    },
    "trusted": true
   },
   "execution_count": 11,
   "outputs": [
    {
     "output_type": "display_data",
     "data": {
      "text/plain": "<IPython.core.display.HTML object>",
      "text/html": "\n<style>\n    /* Turns off some styling */\n    progress {\n        /* gets rid of default border in Firefox and Opera. */\n        border: none;\n        /* Needs to be in here for Safari polyfill so background images work as expected. */\n        background-size: auto;\n    }\n    progress:not([value]), progress:not([value])::-webkit-progress-bar {\n        background: repeating-linear-gradient(45deg, #7e7e7e, #7e7e7e 10px, #5c5c5c 10px, #5c5c5c 20px);\n    }\n    .progress-bar-interrupted, .progress-bar-interrupted::-webkit-progress-bar {\n        background: #F44336;\n    }\n</style>\n"
     },
     "metadata": {}
    },
    {
     "output_type": "display_data",
     "data": {
      "text/plain": "<IPython.core.display.HTML object>",
      "text/html": "<table border=\"1\" class=\"dataframe\">\n  <thead>\n    <tr style=\"text-align: left;\">\n      <th>epoch</th>\n      <th>train_loss</th>\n      <th>valid_loss</th>\n      <th>accuracy</th>\n      <th>time</th>\n    </tr>\n  </thead>\n  <tbody>\n    <tr>\n      <td>0</td>\n      <td>0.000134</td>\n      <td>0.200855</td>\n      <td>0.940845</td>\n      <td>01:08</td>\n    </tr>\n    <tr>\n      <td>1</td>\n      <td>0.000102</td>\n      <td>0.184660</td>\n      <td>0.942254</td>\n      <td>01:08</td>\n    </tr>\n    <tr>\n      <td>2</td>\n      <td>0.000100</td>\n      <td>0.177893</td>\n      <td>0.949296</td>\n      <td>01:08</td>\n    </tr>\n    <tr>\n      <td>3</td>\n      <td>0.000067</td>\n      <td>0.175801</td>\n      <td>0.950704</td>\n      <td>01:08</td>\n    </tr>\n    <tr>\n      <td>4</td>\n      <td>0.000097</td>\n      <td>0.176384</td>\n      <td>0.953521</td>\n      <td>01:08</td>\n    </tr>\n    <tr>\n      <td>5</td>\n      <td>0.000054</td>\n      <td>0.173966</td>\n      <td>0.952113</td>\n      <td>01:07</td>\n    </tr>\n    <tr>\n      <td>6</td>\n      <td>0.000041</td>\n      <td>0.169516</td>\n      <td>0.953521</td>\n      <td>01:07</td>\n    </tr>\n    <tr>\n      <td>7</td>\n      <td>0.000047</td>\n      <td>0.171221</td>\n      <td>0.953521</td>\n      <td>01:07</td>\n    </tr>\n    <tr>\n      <td>8</td>\n      <td>0.000035</td>\n      <td>0.170034</td>\n      <td>0.953521</td>\n      <td>01:07</td>\n    </tr>\n    <tr>\n      <td>9</td>\n      <td>0.000030</td>\n      <td>0.170015</td>\n      <td>0.953521</td>\n      <td>01:08</td>\n    </tr>\n  </tbody>\n</table>"
     },
     "metadata": {}
    },
    {
     "execution_count": 11,
     "output_type": "execute_result",
     "data": {
      "text/plain": "Path('/kaggle/working/dino_model_finetuned.pth')"
     },
     "metadata": {}
    }
   ]
  },
  {
   "cell_type": "code",
   "source": [
    "# Load the fine-tuned models\n",
    "swin_learner.load('swin_finetuned')\n",
    "dino_learner.load('dino_model_finetuned')\n",
    "\n",
    "# Define paths for the test dataset\n",
    "test_path = Path('/kaggle/input/splitrealwaste/realwaste-main/realwaste-test')\n",
    "\n",
    "# Create test DataLoaders for swin v4 and DINO\n",
    "test_dl_swin = swin_learner.dls.test_dl(get_image_files(test_path), with_labels=True, item_tfms=Resize(299))\n",
    "test_dl_dino = dino_learner.dls.test_dl(get_image_files(test_path), with_labels=True, item_tfms=Resize(224))\n",
    "\n",
    "# Validate swin v4 model\n",
    "val_loss_swin, val_acc_swin = swin_learner.validate(dl=data_swin.valid)\n",
    "print(f'Swin Validation Accuracy: {val_acc_swin:.4f}')\n",
    "\n",
    "# Validate DINO model\n",
    "val_loss_dino, val_acc_dino = dino_learner.validate(dl=data_dino.valid)\n",
    "print(f'DINO Validation Accuracy: {val_acc_dino:.4f}')\n",
    "\n",
    "# Define a function to get the predictions from both models and average them\n",
    "def get_ensemble_predictions(learners, dls):\n",
    "    preds = []\n",
    "    targets = None\n",
    "    for learner, dl in zip(learners, dls):\n",
    "        pred, targ = learner.get_preds(dl=dl)\n",
    "        preds.append(pred)\n",
    "        if targets is None:\n",
    "            targets = targ\n",
    "    avg_preds = torch.stack(preds).mean(0)\n",
    "    return avg_preds, targets\n",
    "\n",
    "\n",
    "\n",
    "# Get ensemble test predictions\n",
    "ensemble_test_preds, test_targs = get_ensemble_predictions([swin_learner, dino_learner], [test_dl_swin, test_dl_dino])\n",
    "test_acc_ensemble = accuracy(ensemble_test_preds, test_targs).item()\n",
    "print(f'Ensemble Test Accuracy: {test_acc_ensemble:.4f}')\n",
    "\n",
    "# Validate and get test accuracy for individual models\n",
    "test_loss_swin, test_acc_swin = swin_learner.validate(dl=test_dl_swin)\n",
    "print(f'Swin Test Accuracy: {test_acc_swin:.4f}')\n",
    "\n",
    "test_loss_dino, test_acc_dino = dino_learner.validate(dl=test_dl_dino)\n",
    "print(f'DINO Test Accuracy: {test_acc_dino:.4f}')\n",
    "\n"
   ],
   "metadata": {
    "execution": {
     "iopub.status.busy": "2024-06-27T09:58:23.259078Z",
     "iopub.execute_input": "2024-06-27T09:58:23.259436Z",
     "iopub.status.idle": "2024-06-27T09:59:01.740985Z",
     "shell.execute_reply.started": "2024-06-27T09:58:23.259406Z",
     "shell.execute_reply": "2024-06-27T09:59:01.739772Z"
    },
    "trusted": true
   },
   "execution_count": 13,
   "outputs": [
    {
     "output_type": "display_data",
     "data": {
      "text/plain": "<IPython.core.display.HTML object>",
      "text/html": "\n<style>\n    /* Turns off some styling */\n    progress {\n        /* gets rid of default border in Firefox and Opera. */\n        border: none;\n        /* Needs to be in here for Safari polyfill so background images work as expected. */\n        background-size: auto;\n    }\n    progress:not([value]), progress:not([value])::-webkit-progress-bar {\n        background: repeating-linear-gradient(45deg, #7e7e7e, #7e7e7e 10px, #5c5c5c 10px, #5c5c5c 20px);\n    }\n    .progress-bar-interrupted, .progress-bar-interrupted::-webkit-progress-bar {\n        background: #F44336;\n    }\n</style>\n"
     },
     "metadata": {}
    },
    {
     "output_type": "display_data",
     "data": {
      "text/plain": "<IPython.core.display.HTML object>",
      "text/html": ""
     },
     "metadata": {}
    },
    {
     "name": "stdout",
     "text": "Swin Validation Accuracy: 0.9521\n",
     "output_type": "stream"
    },
    {
     "output_type": "display_data",
     "data": {
      "text/plain": "<IPython.core.display.HTML object>",
      "text/html": "\n<style>\n    /* Turns off some styling */\n    progress {\n        /* gets rid of default border in Firefox and Opera. */\n        border: none;\n        /* Needs to be in here for Safari polyfill so background images work as expected. */\n        background-size: auto;\n    }\n    progress:not([value]), progress:not([value])::-webkit-progress-bar {\n        background: repeating-linear-gradient(45deg, #7e7e7e, #7e7e7e 10px, #5c5c5c 10px, #5c5c5c 20px);\n    }\n    .progress-bar-interrupted, .progress-bar-interrupted::-webkit-progress-bar {\n        background: #F44336;\n    }\n</style>\n"
     },
     "metadata": {}
    },
    {
     "output_type": "display_data",
     "data": {
      "text/plain": "<IPython.core.display.HTML object>",
      "text/html": ""
     },
     "metadata": {}
    },
    {
     "name": "stdout",
     "text": "DINO Validation Accuracy: 0.9535\n",
     "output_type": "stream"
    },
    {
     "output_type": "display_data",
     "data": {
      "text/plain": "<IPython.core.display.HTML object>",
      "text/html": "\n<style>\n    /* Turns off some styling */\n    progress {\n        /* gets rid of default border in Firefox and Opera. */\n        border: none;\n        /* Needs to be in here for Safari polyfill so background images work as expected. */\n        background-size: auto;\n    }\n    progress:not([value]), progress:not([value])::-webkit-progress-bar {\n        background: repeating-linear-gradient(45deg, #7e7e7e, #7e7e7e 10px, #5c5c5c 10px, #5c5c5c 20px);\n    }\n    .progress-bar-interrupted, .progress-bar-interrupted::-webkit-progress-bar {\n        background: #F44336;\n    }\n</style>\n"
     },
     "metadata": {}
    },
    {
     "output_type": "display_data",
     "data": {
      "text/plain": "<IPython.core.display.HTML object>",
      "text/html": ""
     },
     "metadata": {}
    },
    {
     "output_type": "display_data",
     "data": {
      "text/plain": "<IPython.core.display.HTML object>",
      "text/html": "\n<style>\n    /* Turns off some styling */\n    progress {\n        /* gets rid of default border in Firefox and Opera. */\n        border: none;\n        /* Needs to be in here for Safari polyfill so background images work as expected. */\n        background-size: auto;\n    }\n    progress:not([value]), progress:not([value])::-webkit-progress-bar {\n        background: repeating-linear-gradient(45deg, #7e7e7e, #7e7e7e 10px, #5c5c5c 10px, #5c5c5c 20px);\n    }\n    .progress-bar-interrupted, .progress-bar-interrupted::-webkit-progress-bar {\n        background: #F44336;\n    }\n</style>\n"
     },
     "metadata": {}
    },
    {
     "output_type": "display_data",
     "data": {
      "text/plain": "<IPython.core.display.HTML object>",
      "text/html": ""
     },
     "metadata": {}
    },
    {
     "name": "stdout",
     "text": "Ensemble Test Accuracy: 0.9549\n",
     "output_type": "stream"
    },
    {
     "output_type": "display_data",
     "data": {
      "text/plain": "<IPython.core.display.HTML object>",
      "text/html": "\n<style>\n    /* Turns off some styling */\n    progress {\n        /* gets rid of default border in Firefox and Opera. */\n        border: none;\n        /* Needs to be in here for Safari polyfill so background images work as expected. */\n        background-size: auto;\n    }\n    progress:not([value]), progress:not([value])::-webkit-progress-bar {\n        background: repeating-linear-gradient(45deg, #7e7e7e, #7e7e7e 10px, #5c5c5c 10px, #5c5c5c 20px);\n    }\n    .progress-bar-interrupted, .progress-bar-interrupted::-webkit-progress-bar {\n        background: #F44336;\n    }\n</style>\n"
     },
     "metadata": {}
    },
    {
     "output_type": "display_data",
     "data": {
      "text/plain": "<IPython.core.display.HTML object>",
      "text/html": ""
     },
     "metadata": {}
    },
    {
     "name": "stdout",
     "text": "Swin Test Accuracy: 0.9437\n",
     "output_type": "stream"
    },
    {
     "output_type": "display_data",
     "data": {
      "text/plain": "<IPython.core.display.HTML object>",
      "text/html": "\n<style>\n    /* Turns off some styling */\n    progress {\n        /* gets rid of default border in Firefox and Opera. */\n        border: none;\n        /* Needs to be in here for Safari polyfill so background images work as expected. */\n        background-size: auto;\n    }\n    progress:not([value]), progress:not([value])::-webkit-progress-bar {\n        background: repeating-linear-gradient(45deg, #7e7e7e, #7e7e7e 10px, #5c5c5c 10px, #5c5c5c 20px);\n    }\n    .progress-bar-interrupted, .progress-bar-interrupted::-webkit-progress-bar {\n        background: #F44336;\n    }\n</style>\n"
     },
     "metadata": {}
    },
    {
     "output_type": "display_data",
     "data": {
      "text/plain": "<IPython.core.display.HTML object>",
      "text/html": ""
     },
     "metadata": {}
    },
    {
     "name": "stdout",
     "text": "DINO Test Accuracy: 0.9310\n",
     "output_type": "stream"
    }
   ]
  },
  {
   "cell_type": "markdown",
   "source": [
    "<a href=\"#top\" class=\"btn btn-success btn-lg active\" role=\"button\" aria-pressed=\"true\" style=\"color:white\" data-toggle=\"popover\" title=\"go to Colors\">Go to TOP</a>"
   ],
   "metadata": {}
  },
  {
   "cell_type": "code",
   "source": [
    "# Define the mapping for recyclable and non-recyclable labels\n",
    "recyclable_labels = ['Metal', 'Plastic', 'Glass', 'Paper', 'Cardboard']\n",
    "\n",
    "# Function to map predicted classes to recyclable and non-recyclable\n",
    "def map_to_recyclable(prediction):\n",
    "    return 'Recyclable' if prediction in recyclable_labels else 'Non-Recyclable'\n",
    "\n",
    "# Get predictions for the test set from the ensemble\n",
    "test_preds, test_targs = get_ensemble_predictions([swin_learner, dino_learner], [test_dl_swin, test_dl_dino])\n",
    "test_preds_classes = torch.argmax(test_preds, dim=1)\n",
    "test_preds_labels = [swin_learner.dls.vocab[pred] for pred in test_preds_classes]\n",
    "\n",
    "# Map predictions to recyclable and non-recyclable\n",
    "mapped_test_preds = [map_to_recyclable(label) for label in test_preds_labels]\n",
    "\n",
    "# Map true labels to recyclable and non-recyclable\n",
    "test_targs_labels = [swin_learner.dls.vocab[label] for label in test_targs]\n",
    "mapped_test_true = [map_to_recyclable(label) for label in test_targs_labels]\n",
    "\n",
    "# Calculate accuracy\n",
    "accuracy_recyclable_test = np.mean([pred == true for pred, true in zip(mapped_test_preds, mapped_test_true)])\n",
    "print(f'Test Accuracy (Recyclable vs Non-Recyclable): {accuracy_recyclable_test:.4f}')"
   ],
   "metadata": {
    "execution": {
     "iopub.status.busy": "2024-06-27T09:59:39.879584Z",
     "iopub.execute_input": "2024-06-27T09:59:39.880532Z",
     "iopub.status.idle": "2024-06-27T09:59:51.913929Z",
     "shell.execute_reply.started": "2024-06-27T09:59:39.880492Z",
     "shell.execute_reply": "2024-06-27T09:59:51.912807Z"
    },
    "trusted": true
   },
   "execution_count": 15,
   "outputs": [
    {
     "output_type": "display_data",
     "data": {
      "text/plain": "<IPython.core.display.HTML object>",
      "text/html": "\n<style>\n    /* Turns off some styling */\n    progress {\n        /* gets rid of default border in Firefox and Opera. */\n        border: none;\n        /* Needs to be in here for Safari polyfill so background images work as expected. */\n        background-size: auto;\n    }\n    progress:not([value]), progress:not([value])::-webkit-progress-bar {\n        background: repeating-linear-gradient(45deg, #7e7e7e, #7e7e7e 10px, #5c5c5c 10px, #5c5c5c 20px);\n    }\n    .progress-bar-interrupted, .progress-bar-interrupted::-webkit-progress-bar {\n        background: #F44336;\n    }\n</style>\n"
     },
     "metadata": {}
    },
    {
     "output_type": "display_data",
     "data": {
      "text/plain": "<IPython.core.display.HTML object>",
      "text/html": ""
     },
     "metadata": {}
    },
    {
     "output_type": "display_data",
     "data": {
      "text/plain": "<IPython.core.display.HTML object>",
      "text/html": "\n<style>\n    /* Turns off some styling */\n    progress {\n        /* gets rid of default border in Firefox and Opera. */\n        border: none;\n        /* Needs to be in here for Safari polyfill so background images work as expected. */\n        background-size: auto;\n    }\n    progress:not([value]), progress:not([value])::-webkit-progress-bar {\n        background: repeating-linear-gradient(45deg, #7e7e7e, #7e7e7e 10px, #5c5c5c 10px, #5c5c5c 20px);\n    }\n    .progress-bar-interrupted, .progress-bar-interrupted::-webkit-progress-bar {\n        background: #F44336;\n    }\n</style>\n"
     },
     "metadata": {}
    },
    {
     "output_type": "display_data",
     "data": {
      "text/plain": "<IPython.core.display.HTML object>",
      "text/html": ""
     },
     "metadata": {}
    },
    {
     "name": "stdout",
     "text": "Test Accuracy (Recyclable vs Non-Recyclable): 0.9873\n",
     "output_type": "stream"
    }
   ]
  },
  {
   "cell_type": "code",
   "source": [
    "from sklearn.metrics import confusion_matrix, ConfusionMatrixDisplay\n",
    "# Generate and plot confusion matrix\n",
    "def plot_confusion_matrix(y_true, y_pred, classes):\n",
    "    cm = confusion_matrix(y_true, y_pred)\n",
    "    disp = ConfusionMatrixDisplay(confusion_matrix=cm, display_labels=classes)\n",
    "    disp.plot(include_values=True, cmap=plt.cm.Blues, ax=None, xticks_rotation='vertical')\n",
    "    plt.show()\n",
    "\n",
    "# Get the true labels and predicted labels for the test set\n",
    "y_true = np.array([test_dl_swin.dataset[i][1] for i in range(len(test_dl_swin.dataset))])\n",
    "y_pred = ensemble_test_preds.argmax(dim=1).numpy()\n",
    "\n",
    "# Plot confusion matrix for test set\n",
    "plot_confusion_matrix(y_true, y_pred, classes=data_swin.vocab)"
   ],
   "metadata": {
    "execution": {
     "iopub.status.busy": "2024-06-27T10:02:05.970681Z",
     "iopub.execute_input": "2024-06-27T10:02:05.971634Z",
     "iopub.status.idle": "2024-06-27T10:02:09.381513Z",
     "shell.execute_reply.started": "2024-06-27T10:02:05.971592Z",
     "shell.execute_reply": "2024-06-27T10:02:09.380520Z"
    },
    "trusted": true
   },
   "execution_count": 19,
   "outputs": [
    {
     "output_type": "display_data",
     "data": {
      "text/plain": "<Figure size 640x480 with 2 Axes>",
      "image/png": "[encoded data removed]"
     },
     "metadata": {}
    }
   ]
  }
 ]
}
